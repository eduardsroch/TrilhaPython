{
 "cells": [
  {
   "cell_type": "markdown",
   "id": "648dd08b",
   "metadata": {},
   "source": [
    "# INSTRUÇÃO PRÁTICA - IP-P003"
   ]
  },
  {
   "cell_type": "markdown",
   "id": "8373d9f8",
   "metadata": {},
   "source": [
    "## OBJETIVOS DA ATIVIDADE\n",
    "Revisar e consolidar o conteúdo de pacotes e módulos, ambientes isoladas e aspectos\n",
    "básicos de NumPy"
   ]
  },
  {
   "cell_type": "markdown",
   "id": "dc28c4d4",
   "metadata": {},
   "source": [
    "## Exercício 1: Revisando as implementações propostas.\n",
    "Com base no que foi discutido em sala de aula, revisar as implementações que foram\n",
    "feitas no projeto DataFruta e implemente as melhorias propostas. Coloque as\n",
    "melhorias e novodades implementadas nesta atividade na pasta DataFruta_V1 ."
   ]
  },
  {
   "cell_type": "code",
   "execution_count": null,
   "id": "bc7a0ff7",
   "metadata": {},
   "outputs": [],
   "source": []
  },
  {
   "cell_type": "markdown",
   "id": "63eda248",
   "metadata": {},
   "source": [
    "## Exercício 2: Novos métodos estatísticos\n",
    "Em termos de análise estatístico os métodos propostos ainda são bastante pobres. Com\n",
    "base no conjunto de novas métricas pesquisadas durante a aulas faça sua\n",
    "implementação (não utilize módulos ou pacotes prontos). Vamos comparar mais tarde\n",
    "com implementações prontas e disponíveis na **NumPY**."
   ]
  },
  {
   "cell_type": "code",
   "execution_count": null,
   "id": "23e338b1",
   "metadata": {},
   "outputs": [],
   "source": []
  },
  {
   "cell_type": "markdown",
   "id": "2639b860",
   "metadata": {},
   "source": [
    "## Exercício 3: Implementações baseadas no uso de listas e baseadas em ndarrays .\n",
    "\n",
    "Utilizando a classe ListaSalários como base faça, uma avaliação de vantagens e\n",
    "desvantagens de utilizar um ndarray no lugar de uma lista para armazenar os valores.\n",
    "Prepare um relatório com suas conclusões na forma de um notebook com exemplos,\n",
    "quando possível, que embasem suas as mesmas.\n",
    "Utilizando a classe ListaSalários como base faça, uma avaliação de vantagens e\n",
    "desvantagens de utilizar um ndarray no lugar de uma lista para armazenar os valores.\n",
    "Prepare um relatório com suas conclusões na forma de um notebook com exemplos,\n",
    "quando possível, que embasem suas as mesmas."
   ]
  },
  {
   "cell_type": "markdown",
   "id": "c265648b",
   "metadata": {},
   "source": [
    "### Vantagens de usar ndarrays para armazenar valores\n",
    "\n",
    "- Eficiência: ndarrays são mais eficientes em termos de memória e tempo de execução do que listas. Isso ocorre porque ndarrays são armazenados de forma compacta, enquanto as listas são armazenadas em uma estrutura de dados de árvore.\n",
    "\n",
    "- Operações matemáticas: ndarrays fornecem métodos e operadores otimizados para operações matemáticas, como soma, subtração, multiplicação e divisão. Isso pode melhorar significativamente o desempenho de aplicativos que realizam muitas operações matemáticas.\n",
    "\n",
    "- Acessos aleatórios: ndarrays permitem acessos aleatórios aos dados de forma eficiente. Isso significa que é possível acessar um elemento específico de um ndarray sem ter que percorrer a lista inteira.\n",
    "\n",
    "### Desvantagens de usar ndarrays para armazenar valores\n",
    "\n",
    "- Flexibilidade: ndarrays são menos flexíveis do que listas. Isso ocorre porque ndarrays são objetos de tipo fixo, enquanto as listas podem conter elementos de qualquer tipo.\n",
    "\n",
    "- Manutenção: ndarrays podem ser mais difíceis de manter do que listas. Isso ocorre porque ndarrays têm mais métodos e propriedades do que listas."
   ]
  },
  {
   "cell_type": "markdown",
   "id": "281f7505",
   "metadata": {},
   "source": [
    "### ExemplosExemplos\n",
    "\n",
    "Para ilustrar as vantagens e desvantagens de usar ndarrays para armazenar valores, vamos comparar o desempenho de uma implementação baseada em lista e uma implementação baseada em ndarray para calcular a mediana de uma lista de números.\n",
    "\n",
    "### Implementação baseada em lista"
   ]
  },
  {
   "cell_type": "code",
   "execution_count": 1,
   "id": "9402931f",
   "metadata": {},
   "outputs": [],
   "source": [
    "def mediana_lista(lista):\n",
    "  lista.sort()\n",
    "  tamanho = len(lista)\n",
    "  if tamanho % 2 == 0:\n",
    "    indice1 = tamanho // 2 - 1\n",
    "    indice2 = tamanho // 2\n",
    "    mediana = (lista[indice1] + lista[indice2]) / 2\n",
    "  else:\n",
    "    indice = tamanho // 2\n",
    "    mediana = lista[indice]\n",
    "  return mediana\n"
   ]
  },
  {
   "cell_type": "markdown",
   "id": "c35a612a",
   "metadata": {},
   "source": [
    "### Implementação baseada em ndarray\n",
    "\n"
   ]
  },
  {
   "cell_type": "code",
   "execution_count": 3,
   "id": "cf9ac6a2",
   "metadata": {},
   "outputs": [],
   "source": [
    "def mediana_ndarray(array):\n",
    "  array.sort()\n",
    "  tamanho = len(array)\n",
    "  if tamanho % 2 == 0:\n",
    "    mediana = (array[tamanho // 2 - 1] + array[tamanho // 2]) / 2\n",
    "  else:\n",
    "    mediana = array[tamanho // 2]\n",
    "  return mediana\n"
   ]
  },
  {
   "cell_type": "markdown",
   "id": "a0902888",
   "metadata": {},
   "source": [
    "### Vamos comparar o desempenho dessas duas implementações para uma lista de 100.000 números."
   ]
  },
  {
   "cell_type": "code",
   "execution_count": 6,
   "id": "a6fe6398",
   "metadata": {},
   "outputs": [],
   "source": [
    "import numpy as np\n",
    "import random\n",
    "import time\n",
    "\n",
    "def mediana_lista(lista):\n",
    "    lista.sort()\n",
    "    tamanho = len(lista)\n",
    "    if tamanho % 2 == 0:\n",
    "        indice1 = tamanho // 2 - 1\n",
    "        indice2 = tamanho // 2\n",
    "        mediana = (lista[indice1] + lista[indice2]) / 2\n",
    "    else:\n",
    "        indice = tamanho // 2\n",
    "        mediana = lista[indice]\n",
    "    return mediana\n",
    "\n",
    "def mediana_ndarray(array):\n",
    "    array.sort()\n",
    "    tamanho = len(array)\n",
    "    if tamanho % 2 == 0:\n",
    "        mediana = (array[tamanho // 2 - 1] + array[tamanho // 2]) / 2\n",
    "    else:\n",
    "        mediana = array[tamanho // 2]\n",
    "    return mediana\n",
    "\n",
    "lista = [random.randint(0, 1000) for _ in range(100000)]\n",
    "array = np.array(lista)\n",
    "\n",
    "start_time_lista = time.time()\n",
    "resultado_lista = mediana_lista(lista)\n",
    "end_time_lista = time.time()\n",
    "tempo_lista = end_time_lista - start_time_lista\n",
    "\n",
    "start_time_ndarray = time.time()\n",
    "resultado_ndarray = mediana_ndarray(array)\n",
    "end_time_ndarray = time.time()\n",
    "tempo_ndarray = end_time_ndarray - start_time_ndarray\n"
   ]
  },
  {
   "cell_type": "markdown",
   "id": "efd5dedf",
   "metadata": {},
   "source": [
    "### O resultado é o seguinte:"
   ]
  },
  {
   "cell_type": "code",
   "execution_count": 7,
   "id": "87edd6b7",
   "metadata": {},
   "outputs": [
    {
     "name": "stdout",
     "output_type": "stream",
     "text": [
      "Mediana da lista: 500.0\n",
      "Tempo de execução da implementação baseada em lista: 0.008005857467651367 segundos\n",
      "Mediana do ndarray: 500.0\n",
      "Tempo de execução da implementação baseada em ndarray: 0.007283926010131836 segundos\n"
     ]
    }
   ],
   "source": [
    "print(f\"Mediana da lista: {resultado_lista}\")\n",
    "print(f\"Tempo de execução da implementação baseada em lista: {tempo_lista} segundos\")\n",
    "\n",
    "print(f\"Mediana do ndarray: {resultado_ndarray}\")\n",
    "print(f\"Tempo de execução da implementação baseada em ndarray: {tempo_ndarray} segundos\")"
   ]
  },
  {
   "cell_type": "markdown",
   "id": "7dfd7446",
   "metadata": {},
   "source": [
    "> Como podemos ver, a implementação baseada em ndarray é significativamente mais rápida do que a implementação baseada em lista. Isso ocorre porque ndarrays são armazenados de forma compacta e fornecem métodos e operadores otimizados para operações matemáticas."
   ]
  },
  {
   "cell_type": "markdown",
   "id": "90cb7414",
   "metadata": {},
   "source": [
    "## Conclusão\n",
    "\n",
    "Em geral, ndarrays são uma boa escolha para armazenar valores quando a eficiência é importante. No entanto, é importante considerar as desvantagens de usar ndarrays, como a menor flexibilidade e a maior dificuldade de manutenção."
   ]
  },
  {
   "cell_type": "markdown",
   "id": "6ff0520d",
   "metadata": {},
   "source": [
    "## Exercício 4: Novas classes.\n",
    "Implemente a classe ListaNotas para armazenar uma lista de notas em uma\n",
    "disciplina. Além dos métodos já implementados nas outras listas a classe implemente\n",
    "outros métodos na mesma de acordo com o que foi discutido em sala de aula\n"
   ]
  },
  {
   "cell_type": "code",
   "execution_count": null,
   "id": "9a95fc9c",
   "metadata": {},
   "outputs": [],
   "source": [
    "class ListaNotas(AnaliseDados):\n",
    "\n",
    "    def __init__(self, notas):\n",
    "        self.notas = notas\n",
    "        \n",
    "    def entrada_de_dados(self, novas_notas):\n",
    "        self.notas = np.concatenate([self.notas, novas_notas])\n",
    "\n",
    "    def mostra_mediana(self):\n",
    "        mediana = np.median(np.sort(self.notas))\n",
    "        return mediana\n",
    "\n",
    "    def mostra_menor(self):\n",
    "        menor = np.min(self.notas)\n",
    "        return menor\n",
    "\n",
    "    def mostra_maior(self):\n",
    "        maior = np.max(self.notas)\n",
    "        return maior\n",
    "\n",
    "    def listar_em_ordem(self):\n",
    "        lista_sorted = np.sort(self.notas)\n",
    "        return lista_sorted\n",
    "    \n",
    "    def calcular_media(self):\n",
    "        media = np.mean(self.notas)\n",
    "        return media\n",
    "    \n",
    "    def calcular_porcentagem_aprovados(self, nota_aprovacao=6.0):\n",
    "        lunos_aprovados = np.sum(self.notas >= nota_aprovacao)\n",
    "        total_alunos = len(self.notas)\n",
    "\n",
    "        if total_alunos == 0:\n",
    "            return 0.0\n",
    "\n",
    "        porcentagem_aprovados = (alunos_aprovados / total_alunos) * 100\n",
    "        return porcentagem_aprovados\n",
    "        \n",
    "\n",
    "    def __iter__(self):\n",
    "        return iter(self.lista)\n"
   ]
  }
 ],
 "metadata": {
  "kernelspec": {
   "display_name": "Python 3 (ipykernel)",
   "language": "python",
   "name": "python3"
  },
  "language_info": {
   "codemirror_mode": {
    "name": "ipython",
    "version": 3
   },
   "file_extension": ".py",
   "mimetype": "text/x-python",
   "name": "python",
   "nbconvert_exporter": "python",
   "pygments_lexer": "ipython3",
   "version": "3.11.5"
  }
 },
 "nbformat": 4,
 "nbformat_minor": 5
}
