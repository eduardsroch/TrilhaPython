{
 "cells": [
  {
   "cell_type": "markdown",
   "metadata": {},
   "source": [
    "## INSTRUÇÃO PRÁTICA - IP-P007"
   ]
  },
  {
   "cell_type": "markdown",
   "metadata": {},
   "source": [
    "##### Exercício 1: Carregando e analisando um DataSet.\n",
    "\n",
    "1. Baixe os dados de 2003, 2013 e 2023 e escolha um estação para a qual existam\n",
    "dados nestes três anos. Veja que o arquivo .zip que é disponibilizado para cada\n",
    "ano, contem os dados de cada estação em arquivos csv separados. Converse\n",
    "com as outras equipes para ninguém pegar a mesma estação.\n",
    "\n",
    "2. Carregue os dados das três estações em DataFrame s separados e analise a\n",
    "estrutura dos mesmos utilizando o método head() ."
   ]
  },
  {
   "cell_type": "code",
   "execution_count": 5,
   "metadata": {},
   "outputs": [],
   "source": [
    "import pandas as pd\n",
    "    \n",
    "Mc_2003 = pd.read_csv('dataset/montesclaros2003.CSV', encoding='latin1', decimal='.', sep=';', header=8)\n",
    "Mc_2013 = pd.read_csv('dataset/montesclaros2013.CSV', encoding='latin1', decimal='.', sep=';', header=8)\n",
    "Mc_2023 = pd.read_csv('dataset/montesclaros2023.CSV', encoding='latin1', decimal='.', sep=';', header=8)\n"
   ]
  },
  {
   "cell_type": "code",
   "execution_count": null,
   "metadata": {},
   "outputs": [],
   "source": [
    "Mc_2003.head()"
   ]
  },
  {
   "cell_type": "code",
   "execution_count": null,
   "metadata": {},
   "outputs": [],
   "source": [
    "Mc_2013.head()"
   ]
  },
  {
   "cell_type": "code",
   "execution_count": null,
   "metadata": {},
   "outputs": [],
   "source": [
    "Mc_2023.head()"
   ]
  },
  {
   "cell_type": "markdown",
   "metadata": {},
   "source": [
    "### Exercício 2: Juntando os datasets Com base nos datasets carregados na forma de Dataframes\n",
    "\n",
    "1. Construa um novo DataFrame juntando os mesmos e utilizando um\n",
    "MultiIndex como índice formado pelos os anos, os messes de cada ano e os\n",
    "dias de cada mes.\n",
    "2. Construa um novo DataFrame modificando o anterior para utiliza um\n",
    "MultiIndex como colunas contendo os parâmetros agrupados (precipitações,\n",
    "pressão, radiação, temperatura, umidade, velocidade do vento)"
   ]
  },
  {
   "cell_type": "code",
   "execution_count": null,
   "metadata": {},
   "outputs": [],
   "source": [
    "Mc_2023.rename(columns={'Data' : 'DATA (YYYY-MM-DD)'})"
   ]
  },
  {
   "cell_type": "code",
   "execution_count": 11,
   "metadata": {},
   "outputs": [],
   "source": [
    "df1 = pd.DataFrame(Mc_2003)"
   ]
  },
  {
   "cell_type": "code",
   "execution_count": 12,
   "metadata": {},
   "outputs": [],
   "source": [
    "df1 = pd.DataFrame(Mc_2013)"
   ]
  },
  {
   "cell_type": "code",
   "execution_count": 13,
   "metadata": {},
   "outputs": [],
   "source": [
    "df1 = pd.DataFrame(Mc_2023)"
   ]
  },
  {
   "cell_type": "code",
   "execution_count": 16,
   "metadata": {},
   "outputs": [],
   "source": [
    "# Etapa 1: Criar um novo DataFrame com MultiIndex no índice\n",
    "df_concatenado = pd.concat([Mc_2003, Mc_2013, Mc_2023], axis=1)\n"
   ]
  },
  {
   "cell_type": "code",
   "execution_count": null,
   "metadata": {},
   "outputs": [],
   "source": []
  }
 ],
 "metadata": {
  "kernelspec": {
   "display_name": "Python 3",
   "language": "python",
   "name": "python3"
  },
  "language_info": {
   "codemirror_mode": {
    "name": "ipython",
    "version": 3
   },
   "file_extension": ".py",
   "mimetype": "text/x-python",
   "name": "python",
   "nbconvert_exporter": "python",
   "pygments_lexer": "ipython3",
   "version": "3.12.0"
  }
 },
 "nbformat": 4,
 "nbformat_minor": 2
}
