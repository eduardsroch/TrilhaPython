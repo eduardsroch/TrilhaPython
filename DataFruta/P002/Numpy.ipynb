{
 "cells": [
  {
   "cell_type": "code",
   "execution_count": null,
   "metadata": {},
   "outputs": [],
   "source": []
  },
  {
   "cell_type": "markdown",
   "metadata": {},
   "source": [
    "## Exercício 2: Utilizando NumPy"
   ]
  },
  {
   "cell_type": "markdown",
   "metadata": {},
   "source": [
    "A função numpy.random.randint() permite gerar valores inteiros aleatórios num determinado intervalo. O intervalo é especificado através dos argumentos low e high. O argumento low especifica o valor mínimo do intervalo, e o argumento high especifica o valor máximo do intervalo.\n",
    "\n",
    "Por exemplo, a seguinte linha de código gera um array de 10 valores inteiros aleatórios entre 1 e 100:"
   ]
  },
  {
   "cell_type": "code",
   "execution_count": null,
   "metadata": {},
   "outputs": [],
   "source": [
    "import numpy as np\n",
    "\n",
    "array = np.random.randint(1, 101, size=10)\n"
   ]
  },
  {
   "cell_type": "markdown",
   "metadata": {},
   "source": [
    "Para gerar um ndarray a partir da classe ListaIdades, podemos usar o método to_numpy(). Este método converte a lista em um array NumPy.\n",
    "\n",
    "Por exemplo, o seguinte código cria uma instância da classe ListaIdades e usa o método to_numpy() para converter a lista em um array NumPy:"
   ]
  },
  {
   "cell_type": "code",
   "execution_count": null,
   "metadata": {},
   "outputs": [],
   "source": [
    "import numpy as np\n",
    "\n",
    "from lista_idades import ListaIdades\n",
    "\n",
    "# Gera um array de 10 valores inteiros aleatórios entre 1 e 100\n",
    "array = np.random.randint(1, 101, size=10)\n",
    "\n",
    "# Cria uma instância da classe ListaIdades\n",
    "lista = ListaIdades([18, 25, 32, 41, 50])\n",
    "\n",
    "# Converte a lista em um array NumPy\n",
    "array = lista.to_numpy()\n",
    "\n",
    "# Imprime o array NumPy\n",
    "print(array)\n"
   ]
  },
  {
   "cell_type": "markdown",
   "metadata": {},
   "source": [
    "#### Aqui está um exemplo de como você pode adaptar o seu código para criar um ndarray com valores inteiros aleatórios no intervalo das idades mínima e máxima da sua ListaIdades"
   ]
  },
  {
   "cell_type": "code",
   "execution_count": null,
   "metadata": {},
   "outputs": [],
   "source": [
    "import numpy as np\n",
    "\n",
    "class ListaIdades(AnaliseDados):\n",
    "    def __init__(self, idades=[]):\n",
    "        self.__lista = []\n",
    "        for idade in idades:\n",
    "            self.entrada_de_dados(idade)\n",
    "\n",
    "    def entrada_de_dados(self, idade):\n",
    "        if idade < 0:\n",
    "            raise ValueError(\"Idade não pode ser negativa.\")\n",
    "        self.__lista.append(idade)\n",
    "\n",
    "    def gerar_ndarray_aleatorio(self, tamanho, idade_minima, idade_maxima):\n",
    "        if idade_minima < 0 or idade_maxima < 0 or idade_minima > idade_maxima:\n",
    "            raise ValueError(\"Intervalo de idades inválido.\")\n",
    "        \n",
    "        return np.random.randint(idade_minima, idade_maxima + 1, tamanho)\n",
    "\n",
    "    def mostra_mediana(self):\n",
    "        self.__lista.sort()\n",
    "        tamanho = len(self.__lista)\n",
    "        if tamanho % 2 == 0:\n",
    "            indice1 = tamanho // 2 - 1\n",
    "            indice2 = tamanho // 2\n",
    "            mediana = (self.__lista[indice1] + self.__lista[indice2]) / 2  # Retorna a média entre as duas idades do meio\n",
    "        else:\n",
    "            indice = tamanho // 2\n",
    "            mediana = self.__lista[indice]  # Retorna a idade do meio\n",
    "        return mediana\n",
    "\n",
    "    def mostra_menor(self):\n",
    "        return min(self.__lista)\n",
    "\n",
    "    def mostra_maior(self):\n",
    "        return max(self.__lista)\n",
    "\n",
    "    def listar_em_ordem(self):\n",
    "        return sorted(self.__lista)\n",
    "\n",
    "    def __iter__(self):\n",
    "        return iter(self.__lista)\n",
    "\n",
    "if __name__ == \"__main__\":\n",
    "    # Exemplo de uso\n",
    "    lista_idades = ListaIdades()\n",
    "    nd_array_aleatorio = lista_idades.gerar_ndarray_aleatorio(tamanho=10, idade_minima=18, idade_maxima=60)\n",
    "    print(\"Array aleatório de idades:\", nd_array_aleatorio)\n"
   ]
  },
  {
   "cell_type": "markdown",
   "metadata": {},
   "source": [
    " ## Parte B\n",
    " Sim, existe uma alternativa para gerar um ndarray com valores de ponto flutuante aleatórios num determinado intervalo usando o módulo random do NumPy. Podemos usar a função random.randint() para gerar valores inteiros aleatórios no intervalo [0, n-1], onde n é o tamanho do intervalo. Em seguida, podemos converter esses valores inteiros para ponto flutuante usando a função float().\n",
    "\n",
    "Por exemplo, para gerar um ndarray com 100 valores de ponto flutuante aleatórios no intervalo [1000, 2000], podemos usar o seguinte código:"
   ]
  },
  {
   "cell_type": "code",
   "execution_count": null,
   "metadata": {},
   "outputs": [],
   "source": [
    "import numpy as np\n",
    "\n",
    "salario_minimo = 1000\n",
    "salario_maximo = 2000\n",
    "\n",
    "salarios = np.array([float(i) for i in np.random.randint(salario_minimo, salario_maximo + 1, size=100)])\n",
    "\n",
    "print(salarios)\n"
   ]
  },
  {
   "cell_type": "markdown",
   "metadata": {},
   "source": [
    "Outra alternativa é usar a função random.uniform() para gerar valores de ponto flutuante aleatórios diretamente no intervalo desejado. Por exemplo, para gerar um ndarray com 100 valores de ponto flutuante aleatórios no intervalo [1000, 2000], podemos usar o seguinte código:"
   ]
  },
  {
   "cell_type": "code",
   "execution_count": null,
   "metadata": {},
   "outputs": [],
   "source": [
    "import numpy as np\n",
    "\n",
    "salario_minimo = 1000\n",
    "salario_maximo = 2000\n",
    "\n",
    "salarios = np.random.uniform(salario_minimo, salario_maximo, size=100)\n",
    "\n",
    "print(salarios)\n"
   ]
  },
  {
   "cell_type": "markdown",
   "metadata": {},
   "source": [
    "Este código irá gerar o mesmo resultado que o código anterior.\n",
    "\n",
    "A escolha da função mais adequada dependerá das necessidades específicas do seu aplicativo. Se você precisar gerar valores inteiros aleatórios e, em seguida, convertê-los para ponto flutuante, a função random.randint() pode ser mais eficiente. Se você precisar gerar valores de ponto flutuante diretamente no intervalo desejado, a função random.uniform() pode ser mais conveniente."
   ]
  },
  {
   "cell_type": "markdown",
   "metadata": {},
   "source": [
    "##### código completo usando a função numpy.random.uniform para gerar um ndarray com valores de ponto flutuante aleatórios no intervalo especificado"
   ]
  },
  {
   "cell_type": "code",
   "execution_count": null,
   "metadata": {},
   "outputs": [],
   "source": [
    "import numpy as np\n",
    "\n",
    "class ListaSalarios:\n",
    "    def __init__(self):\n",
    "        self.__lista = []        \n",
    "\n",
    "    def entrada_de_dados(self, salarios):\n",
    "        try:\n",
    "            for salario in salarios:\n",
    "                if salario < 0:\n",
    "                    raise ValueError(\"Salário não pode ser negativo.\")\n",
    "                self.__lista.append(salario)\n",
    "        except ValueError:\n",
    "            print(\"Erro: Insira um valor de salário válido.\")\n",
    "\n",
    "    def mostra_mediana(self):\n",
    "        self.__lista.sort()\n",
    "        tamanho = len(self.__lista)\n",
    "        if tamanho % 2 == 0:\n",
    "            indice1 = tamanho // 2 - 1\n",
    "            indice2 = tamanho // 2\n",
    "            mediana = (self.__lista[indice1] + self.__lista[indice2]) / 2\n",
    "        else:\n",
    "            indice = tamanho // 2\n",
    "            mediana = self.__lista[indice]\n",
    "        return mediana\n",
    "\n",
    "    def mostra_menor(self):\n",
    "        return min(self.__lista)\n",
    "\n",
    "    def mostra_maior(self):\n",
    "        return max(self.__lista)\n",
    "\n",
    "    def listar_em_ordem(self):\n",
    "        return sorted(self.__lista)\n",
    "\n",
    "    def gerar_salarios_aleatorios(self, salario_minimo, salario_maximo):\n",
    "        # Usar a função numpy.random.uniform para gerar salários aleatórios\n",
    "        salarios_aleatorios = np.random.uniform(salario_minimo, salario_maximo + 0.1, size=len(self.__lista))\n",
    "        return salarios_aleatorios\n",
    "\n",
    "# Exemplo de uso\n",
    "lista_salarios = ListaSalarios()\n",
    "lista_salarios.entrada_de_dados([4000, 6000, 8000, 5000, 7000])\n",
    "\n",
    "salario_minimo = 3000.0\n",
    "salario_maximo = 8000.0\n",
    "\n",
    "salarios_aleatorios = lista_salarios.gerar_salarios_aleatorios(salario_minimo, salario_maximo)\n",
    "print(\"Salários Aleatórios:\", salarios_aleatorios)\n"
   ]
  }
 ],
 "metadata": {
  "kernelspec": {
   "display_name": "Python 3",
   "language": "python",
   "name": "python3"
  },
  "language_info": {
   "codemirror_mode": {
    "name": "ipython",
    "version": 3
   },
   "file_extension": ".py",
   "mimetype": "text/x-python",
   "name": "python",
   "nbconvert_exporter": "python",
   "pygments_lexer": "ipython3",
   "version": "3.12.0"
  }
 },
 "nbformat": 4,
 "nbformat_minor": 2
}
