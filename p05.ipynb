{
 "cells": [
  {
   "cell_type": "markdown",
   "id": "f1c77714",
   "metadata": {},
   "source": [
    "Exercício 1: Criando um conjunto de dados"
   ]
  },
  {
   "cell_type": "code",
   "execution_count": 1,
   "id": "17a365a5",
   "metadata": {},
   "outputs": [
    {
     "data": {
      "text/html": [
       "<div>\n",
       "<style scoped>\n",
       "    .dataframe tbody tr th:only-of-type {\n",
       "        vertical-align: middle;\n",
       "    }\n",
       "\n",
       "    .dataframe tbody tr th {\n",
       "        vertical-align: top;\n",
       "    }\n",
       "\n",
       "    .dataframe thead th {\n",
       "        text-align: right;\n",
       "    }\n",
       "</style>\n",
       "<table border=\"1\" class=\"dataframe\">\n",
       "  <thead>\n",
       "    <tr style=\"text-align: right;\">\n",
       "      <th></th>\n",
       "      <th>identificador</th>\n",
       "      <th>idade</th>\n",
       "      <th>formação</th>\n",
       "      <th>formaçãoGeral</th>\n",
       "      <th>formaçãoEspecífica</th>\n",
       "      <th>andamentoGraduação</th>\n",
       "      <th>tempoFormação</th>\n",
       "      <th>experiênciaPrevia</th>\n",
       "    </tr>\n",
       "  </thead>\n",
       "  <tbody>\n",
       "    <tr>\n",
       "      <th>0</th>\n",
       "      <td>tic18Py06472</td>\n",
       "      <td>23</td>\n",
       "      <td>1</td>\n",
       "      <td>1</td>\n",
       "      <td>Engenharia de Software</td>\n",
       "      <td>80.0</td>\n",
       "      <td>2.0</td>\n",
       "      <td>True</td>\n",
       "    </tr>\n",
       "    <tr>\n",
       "      <th>1</th>\n",
       "      <td>tic18Py07456</td>\n",
       "      <td>22</td>\n",
       "      <td>3</td>\n",
       "      <td>0</td>\n",
       "      <td>None</td>\n",
       "      <td>100.0</td>\n",
       "      <td>NaN</td>\n",
       "      <td>False</td>\n",
       "    </tr>\n",
       "    <tr>\n",
       "      <th>2</th>\n",
       "      <td>tic18Py08432</td>\n",
       "      <td>21</td>\n",
       "      <td>0</td>\n",
       "      <td>1</td>\n",
       "      <td>Ciência da Computação</td>\n",
       "      <td>NaN</td>\n",
       "      <td>NaN</td>\n",
       "      <td>False</td>\n",
       "    </tr>\n",
       "  </tbody>\n",
       "</table>\n",
       "</div>"
      ],
      "text/plain": [
       "  identificador  idade  formação  formaçãoGeral      formaçãoEspecífica  \\\n",
       "0  tic18Py06472     23         1              1  Engenharia de Software   \n",
       "1  tic18Py07456     22         3              0                    None   \n",
       "2  tic18Py08432     21         0              1   Ciência da Computação   \n",
       "\n",
       "   andamentoGraduação  tempoFormação  experiênciaPrevia  \n",
       "0                80.0            2.0               True  \n",
       "1               100.0            NaN              False  \n",
       "2                 NaN            NaN              False  "
      ]
     },
     "execution_count": 1,
     "metadata": {},
     "output_type": "execute_result"
    }
   ],
   "source": [
    "import pandas as pd\n",
    "\n",
    "identificador = [\"tic18Py06472\", \"tic18Py07456\", \"tic18Py08432\"]\n",
    "idade = [23, 22, 21]\n",
    "formação = [1, 3, 0]\n",
    "formaçãoGeral = [1, 0, 1]\n",
    "formaçãoEspecífica = [\"Engenharia de Software\", None, \"Ciência da Computação\"]\n",
    "andamentoGraduação = [80.0, 100.0, None]\n",
    "tempoFormação = [2, None, None]\n",
    "experiênciaPrevia = [True, False, False]\n",
    "\n",
    "\n",
    "df = pd.DataFrame({\n",
    "    \"identificador\": identificador,\n",
    "    \"idade\": idade,\n",
    "    \"formação\": formação,\n",
    "    \"formaçãoGeral\": formaçãoGeral,\n",
    "    \"formaçãoEspecífica\": formaçãoEspecífica,\n",
    "    \"andamentoGraduação\": andamentoGraduação,\n",
    "    \"tempoFormação\": tempoFormação,\n",
    "    \"experiênciaPrevia\": experiênciaPrevia\n",
    "})\n",
    "\n",
    "df.head()\n",
    "\n"
   ]
  },
  {
   "cell_type": "markdown",
   "id": "fe9d4a8c",
   "metadata": {},
   "source": [
    "Exercício 2: Trabalhando com Series"
   ]
  },
  {
   "cell_type": "code",
   "execution_count": 4,
   "id": "ace36779",
   "metadata": {},
   "outputs": [
    {
     "data": {
      "text/plain": [
       "1    2\n",
       "0    1\n",
       "Name: count, dtype: int64"
      ]
     },
     "execution_count": 4,
     "metadata": {},
     "output_type": "execute_result"
    }
   ],
   "source": [
    "import pandas as pd\n",
    "\n",
    "identificador = [\"tic18Py06472\", \"tic18Py07456\", \"tic18Py08432\"]\n",
    "index = pd.Index(identificador)\n",
    "\n",
    "idade = pd.Series(idade, index=index)\n",
    "formação = pd.Series(formação, index=index)\n",
    "formaçãoGeral = pd.Series(formaçãoGeral, index=index)\n",
    "formaçãoEspecífica = pd.Series(formaçãoEspecífica, index=index)\n",
    "andamentoGraduação = pd.Series(andamentoGraduação, index=index)\n",
    "tempoFormação = pd.Series(tempoFormação, index=index)\n",
    "experiênciaPrevia = pd.Series(experiênciaPrevia, index=index)\n",
    "\n",
    "idade.mean()\n",
    "idade.min()\n",
    "idade.max()\n",
    "formação.value_counts()\n",
    "formaçãoGeral.value_counts()\n"
   ]
  },
  {
   "cell_type": "code",
   "execution_count": 11,
   "id": "a3381663",
   "metadata": {},
   "outputs": [],
   "source": [
    "import pandas as pd\n",
    "\n",
    "identificador = [\"tic18Py06472\", \"tic18Py07456\", \"tic18Py08432\"]\n",
    "idade = [23, 22, 21]\n",
    "formação = [1, 3, 0]\n",
    "formaçãoGeral = [1, 0, 1]\n",
    "formaçãoEspecífica = [\"Engenharia de Software\", None, \"Ciência da Computação\"]\n",
    "andamentoGraduação = [80.0, 100.0, None]\n",
    "tempoFormação = [2, None, None]\n",
    "experiênciaPrevia = [True, False, False]\n",
    "\n",
    "df = pd.DataFrame({\n",
    "    \"identificador\": identificador,\n",
    "    \"idade\": idade,\n",
    "    \"formação\": formação,\n",
    "    \"formaçãoGeral\": formaçãoGeral,\n",
    "    \"formaçãoEspecífica\": formaçãoEspecífica,\n",
    "    \"andamentoGraduação\": andamentoGraduação,\n",
    "    \"tempoFormação\": tempoFormação,\n",
    "    \"experiênciaPrevia\": experiênciaPrevia\n",
    "})\n",
    "\n",
    "df[\"idade\"].mean()\n",
    "\n",
    "df[\"idade\"].min(), df[\"idade\"].max()\n",
    "\n",
    "df[\"formação\"].value_counts()\n",
    "\n",
    "df[\"formaçãoGeral\"].value_counts()\n",
    "\n",
    "rotulos = set(df[\"formaçãoEspecífica\"].dropna())\n",
    "\n",
    "def padronizar_rotulo(rotulo):\n",
    "    if rotulo == \"Engenharia de Software\":\n",
    "        return \"Engenharia de Software\"\n",
    "    elif rotulo == \"Ciência da Computação\":\n",
    "        return \"Ciência da Computação\"\n",
    "    else:\n",
    "        return \"Outro\"\n",
    "\n",
    "df[\"formaçãoEspecífica\"] = df[\"formaçãoEspecífica\"].apply(padronizar_rotulo)\n",
    "\n"
   ]
  },
  {
   "cell_type": "markdown",
   "id": "9f319809",
   "metadata": {},
   "source": [
    "exercício 3: Trabalhando com MultiIndex"
   ]
  },
  {
   "cell_type": "code",
   "execution_count": 12,
   "id": "43cb1343",
   "metadata": {},
   "outputs": [
    {
     "data": {
      "text/plain": [
       "trilha  formaçãoGeral\n",
       ".Net    0                1\n",
       "Java    1                1\n",
       "Python  1                1\n",
       "Name: count, dtype: int64"
      ]
     },
     "execution_count": 12,
     "metadata": {},
     "output_type": "execute_result"
    }
   ],
   "source": [
    "import pandas as pd\n",
    "\n",
    "identificador = [\"tic18Py06472\", \"tic18Py07456\", \"tic18Py08432\"]\n",
    "idade = [23, 22, 21]\n",
    "formação = [1, 3, 0]\n",
    "formaçãoGeral = [1, 0, 1]\n",
    "formaçãoEspecífica = [\"Engenharia de Software\", None, \"Ciência da Computação\"]\n",
    "andamentoGraduação = [80.0, 100.0, None]\n",
    "tempoFormação = [2, None, None]\n",
    "experiênciaPrevia = [True, False, False]\n",
    "\n",
    "trilha = [\"Python\", \".Net\", \"Java\"]\n",
    "\n",
    "df = pd.DataFrame({\n",
    "    \"identificador\": identificador,\n",
    "    \"idade\": idade,\n",
    "    \"formação\": formação,\n",
    "    \"formaçãoGeral\": formaçãoGeral,\n",
    "    \"formaçãoEspecífica\": formaçãoEspecífica,\n",
    "    \"andamentoGraduação\": andamentoGraduação,\n",
    "    \"tempoFormação\": tempoFormação,\n",
    "    \"experiênciaPrevia\": experiênciaPrevia\n",
    "}, index=pd.MultiIndex.from_tuples([(identificador[i], trilha[i]) for i in range(len(identificador))], names=[\"identificador\", \"trilha\"]))\n",
    "\n",
    "df.groupby(\"trilha\")[\"idade\"].mean()\n",
    "\n",
    "df.groupby(\"trilha\")[\"idade\"].min(), df.groupby(\"trilha\")[\"idade\"].max()\n",
    "\n",
    "df.groupby(\"trilha\")[\"formação\"].value_counts()\n",
    "\n",
    "df.groupby(\"trilha\")[\"formaçãoGeral\"].value_counts()\n",
    "\n",
    "\n"
   ]
  },
  {
   "cell_type": "code",
   "execution_count": null,
   "id": "62808404",
   "metadata": {},
   "outputs": [],
   "source": []
  }
 ],
 "metadata": {
  "kernelspec": {
   "display_name": "Python 3 (ipykernel)",
   "language": "python",
   "name": "python3"
  },
  "language_info": {
   "codemirror_mode": {
    "name": "ipython",
    "version": 3
   },
   "file_extension": ".py",
   "mimetype": "text/x-python",
   "name": "python",
   "nbconvert_exporter": "python",
   "pygments_lexer": "ipython3",
   "version": "3.11.5"
  }
 },
 "nbformat": 4,
 "nbformat_minor": 5
}
